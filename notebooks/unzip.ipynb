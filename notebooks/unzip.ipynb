{
 "cells": [
  {
   "cell_type": "code",
   "execution_count": 23,
   "id": "61e410a7-f7ae-4307-8ffe-08c3960e3be6",
   "metadata": {
    "tags": []
   },
   "outputs": [],
   "source": [
    "import pandas as pd\n",
    "import zipfile\n",
    "import os\n",
    "import numpy as np\n",
    "import matplotlib.pyplot as plt\n",
    "import chardet"
   ]
  },
  {
   "cell_type": "markdown",
   "id": "4e8e1b23-aa58-405d-8853-2e4e9406a61a",
   "metadata": {},
   "source": [
    "Set Papermill variables"
   ]
  },
  {
   "cell_type": "code",
   "execution_count": 24,
   "id": "9be11ae9-62cc-4375-b8b6-e91cc295de4f",
   "metadata": {
    "tags": []
   },
   "outputs": [],
   "source": [
    "input_path = \"../data/sediments-data/data files.zip\"\n",
    "temp_extract_path = \"temp_folder_for_extraction\"\n",
    "output_path = \"../data/outputs\""
   ]
  },
  {
   "cell_type": "markdown",
   "id": "4ce24162-bd24-40ff-8171-04fca7f769b0",
   "metadata": {},
   "source": [
    " Unzipping files"
   ]
  },
  {
   "cell_type": "code",
   "execution_count": 25,
   "id": "ad52ba9c-2d16-4ae5-9b49-d416088ef6be",
   "metadata": {
    "tags": []
   },
   "outputs": [
    {
     "name": "stdout",
     "output_type": "stream",
     "text": [
      "Reading file: temp_folder_for_extraction/data files/Measuring_info.csv\n",
      "Reading file: temp_folder_for_extraction/data files/CycleB1_2cm/C1_Temperatures_RawSignal(RTD).csv\n",
      "Reading file: temp_folder_for_extraction/data files/CycleB1_2cm/C1_Temperatures_Processed(degC).csv\n",
      "Reading file: temp_folder_for_extraction/data files/PulseB0_room&wbath_Temp/Room_Temperature_Processed(degC).csv\n",
      "Reading file: temp_folder_for_extraction/data files/PulseB0_room&wbath_Temp/Room_Temperature_RawSignal(RTD).csv\n",
      "Reading file: temp_folder_for_extraction/data files/CycleB3_6cm/C3_Temperatures_Processed(degC).csv\n",
      "Reading file: temp_folder_for_extraction/data files/CycleB3_6cm/C3_Temperatures_RawSignal(RTD).csv\n",
      "Reading file: temp_folder_for_extraction/data files/Sediment_properties/Sediment_prop.csv\n",
      "Skipping file: temp_folder_for_extraction/data files/Sediment_properties/Standard_methods/UNE_EN_1097-7_method.csv\n",
      "Reading file: temp_folder_for_extraction/data files/Sediment_properties/Standard_methods/APHA_methods.csv\n",
      "Reading file: temp_folder_for_extraction/data files/Sediment_properties/Standard_methods/ISO_2591-1_1988_method.csv\n",
      "Reading file: temp_folder_for_extraction/data files/Sediment_properties/Standard_methods/ISO_13320_2009_method.csv\n",
      "Reading file: temp_folder_for_extraction/data files/Sensors_calibration/Step3_Temperatures_RawSignal(RTD).csv\n",
      "Reading file: temp_folder_for_extraction/data files/Sensors_calibration/Step4_Temperatures_RawSignal(RTD).csv\n",
      "Reading file: temp_folder_for_extraction/data files/Sensors_calibration/Step5_Temperatures_RawSignal(RTD).csv\n",
      "Reading file: temp_folder_for_extraction/data files/Sensors_calibration/Step1_Temperatures_RawSignal(RTD).csv\n",
      "Reading file: temp_folder_for_extraction/data files/Sensors_calibration/Step6_Temperatures_RawSignal(RTD).csv\n",
      "Reading file: temp_folder_for_extraction/data files/Sensors_calibration/Step2_Temperatures_RawSignal(RTD).csv\n",
      "Reading file: temp_folder_for_extraction/data files/PulseB3_6cm/P3_Temperatures_Processed(degC).csv\n",
      "Reading file: temp_folder_for_extraction/data files/PulseB3_6cm/P3_Temperatures_RawSignal(RTD).csv\n",
      "Reading file: temp_folder_for_extraction/data files/PulseB1_2cm/P1_Temperatures_RawSignal(RTD).csv\n",
      "Reading file: temp_folder_for_extraction/data files/PulseB1_2cm/P1_Temperatures_Processed(degC).csv\n",
      "Reading file: temp_folder_for_extraction/data files/CycleB4_8cm/C4_Temperatures_RawSignal(RTD).csv\n",
      "Reading file: temp_folder_for_extraction/data files/CycleB4_8cm/C4_Temperatures_Processed(degC).csv\n",
      "Reading file: temp_folder_for_extraction/data files/PulseB2_4cm/P2_Temperatures_Processed(degC).csv\n",
      "Reading file: temp_folder_for_extraction/data files/PulseB2_4cm/P2_Temperatures_RawSignal(RTD).csv\n",
      "Reading file: temp_folder_for_extraction/data files/PulseB4_8cm/P4_Temperatures_Processed(degC).csv\n",
      "Reading file: temp_folder_for_extraction/data files/PulseB4_8cm/P4_Temperatures_RawSignal(RTD).csv\n",
      "Reading file: temp_folder_for_extraction/data files/CycleB2_4cm/C2_Temperatures_Processed(degC).csv\n",
      "Reading file: temp_folder_for_extraction/data files/CycleB2_4cm/C2_Temperatures_RawSignal(RTD).csv\n",
      "Reading file: temp_folder_for_extraction/data files/CycleB0_room&wbath_Temp/Room_Temperature_Processed(degC).csv\n",
      "Reading file: temp_folder_for_extraction/data files/CycleB0_room&wbath_Temp/Room_Temperature_RawSignal(RTD).csv\n"
     ]
    }
   ],
   "source": [
    "# 1. Unzipping the ZIP file\n",
    "with zipfile.ZipFile(input_path, 'r') as zip_ref:\n",
    "    zip_ref.extractall(temp_extract_path)\n",
    "\n",
    "# 2. Walking the extracted folder and reading the CSV\n",
    "dataframes = {}  # Storing the dataframes using the filename as the key\n",
    "for dirpath, dirnames, filenames in os.walk(temp_extract_path):\n",
    "    for file in filenames:\n",
    "        if file.endswith('.csv'):\n",
    "            file_path = os.path.join(dirpath, file)\n",
    "            \n",
    "            # Skipping the specified file (wrong csv structure in Zenodo)\n",
    "            if file_path == os.path.join(temp_extract_path, 'data files/Sediment_properties/Standard_methods/UNE_EN_1097-7_method.csv'):\n",
    "                print(f\"Skipping file: {file_path}\")\n",
    "                continue\n",
    "            \n",
    "            print(f\"Reading file: {file_path}\")\n",
    "            \n",
    "            # Detecting the encoding of the file\n",
    "            with open(file_path, 'rb') as f:\n",
    "                result = chardet.detect(f.read())\n",
    "                encoding = result['encoding']\n",
    "            \n",
    "            try:\n",
    "                dataframes[file] = pd.read_csv(file_path, delimiter=';', encoding=encoding)\n",
    "            except pd.errors.ParserError as e:\n",
    "                print(f\"Failed to read {file_path}. Error: {e}\")\n",
    "            except UnicodeDecodeError as e:\n",
    "                print(f\"Encoding issue with {file_path}. Error: {e}\")\n",
    "\n",
    "# 4. Cleaning up the extracted files\n",
    "import shutil\n",
    "shutil.rmtree(temp_extract_path)"
   ]
  },
  {
   "cell_type": "code",
   "execution_count": 27,
   "id": "5e6f48bc-9398-4bc9-ba0c-63d59029bcab",
   "metadata": {
    "tags": []
   },
   "outputs": [
    {
     "name": "stdout",
     "output_type": "stream",
     "text": [
      "Saving dataframes to directory: ../data/outputs\n",
      "Absolute output directory: /home/jovyan/work/coudlabs-temperatura-2024/data/outputs\n",
      "Saved dataframe to: ../data/outputs/Measuring_info.csv\n",
      "Saved dataframe to: ../data/outputs/C1_Temperatures_RawSignal(RTD).csv\n",
      "Saved dataframe to: ../data/outputs/C1_Temperatures_Processed(degC).csv\n",
      "Saved dataframe to: ../data/outputs/Room_Temperature_Processed(degC).csv\n",
      "Saved dataframe to: ../data/outputs/Room_Temperature_RawSignal(RTD).csv\n",
      "Saved dataframe to: ../data/outputs/C3_Temperatures_Processed(degC).csv\n",
      "Saved dataframe to: ../data/outputs/C3_Temperatures_RawSignal(RTD).csv\n",
      "Saved dataframe to: ../data/outputs/Sediment_prop.csv\n",
      "Saved dataframe to: ../data/outputs/APHA_methods.csv\n",
      "Saved dataframe to: ../data/outputs/ISO_2591-1_1988_method.csv\n",
      "Saved dataframe to: ../data/outputs/ISO_13320_2009_method.csv\n",
      "Saved dataframe to: ../data/outputs/Step3_Temperatures_RawSignal(RTD).csv\n",
      "Saved dataframe to: ../data/outputs/Step4_Temperatures_RawSignal(RTD).csv\n",
      "Saved dataframe to: ../data/outputs/Step5_Temperatures_RawSignal(RTD).csv\n",
      "Saved dataframe to: ../data/outputs/Step1_Temperatures_RawSignal(RTD).csv\n",
      "Saved dataframe to: ../data/outputs/Step6_Temperatures_RawSignal(RTD).csv\n",
      "Saved dataframe to: ../data/outputs/Step2_Temperatures_RawSignal(RTD).csv\n",
      "Saved dataframe to: ../data/outputs/P3_Temperatures_Processed(degC).csv\n",
      "Saved dataframe to: ../data/outputs/P3_Temperatures_RawSignal(RTD).csv\n",
      "Saved dataframe to: ../data/outputs/P1_Temperatures_RawSignal(RTD).csv\n",
      "Saved dataframe to: ../data/outputs/P1_Temperatures_Processed(degC).csv\n",
      "Saved dataframe to: ../data/outputs/C4_Temperatures_RawSignal(RTD).csv\n",
      "Saved dataframe to: ../data/outputs/C4_Temperatures_Processed(degC).csv\n",
      "Saved dataframe to: ../data/outputs/P2_Temperatures_Processed(degC).csv\n",
      "Saved dataframe to: ../data/outputs/P2_Temperatures_RawSignal(RTD).csv\n",
      "Saved dataframe to: ../data/outputs/P4_Temperatures_Processed(degC).csv\n",
      "Saved dataframe to: ../data/outputs/P4_Temperatures_RawSignal(RTD).csv\n",
      "Saved dataframe to: ../data/outputs/C2_Temperatures_Processed(degC).csv\n",
      "Saved dataframe to: ../data/outputs/C2_Temperatures_RawSignal(RTD).csv\n"
     ]
    }
   ],
   "source": [
    " # Check if PAPERMILL_EXECUTION variable is present\n",
    "\n",
    "# 3. Save each dataframe to CSV in the outputs directory\n",
    "os.makedirs(output_path, exist_ok=True)\n",
    "print(f\"Saving dataframes to directory: {output_path}\")\n",
    "abs_output_dir = os.path.abspath(output_path)\n",
    "print(f\"Absolute output directory: {abs_output_dir}\")\n",
    "for filename, df in dataframes.items():\n",
    "    output_file_path = os.path.join(output_path, filename)\n",
    "    df.to_csv(output_file_path, index=False)\n",
    "    print(f\"Saved dataframe to: {output_file_path}\")"
   ]
  },
  {
   "cell_type": "code",
   "execution_count": null,
   "id": "bb093a2a-669b-4ea4-b2d8-cab1d658064b",
   "metadata": {},
   "outputs": [],
   "source": []
  }
 ],
 "metadata": {
  "kernelspec": {
   "display_name": "Python 3 (ipykernel)",
   "language": "python",
   "name": "python3"
  },
  "language_info": {
   "codemirror_mode": {
    "name": "ipython",
    "version": 3
   },
   "file_extension": ".py",
   "mimetype": "text/x-python",
   "name": "python",
   "nbconvert_exporter": "python",
   "pygments_lexer": "ipython3",
   "version": "3.10.11"
  }
 },
 "nbformat": 4,
 "nbformat_minor": 5
}
